{
 "cells": [
  {
   "cell_type": "markdown",
   "metadata": {},
   "source": [
    "# Accretion disc formation\n",
    "\n",
    "Charles Xu @ Caltech, 20240821\n",
    "\n",
    "This notebook is used to simulate a model of the formation of the accretion disc around a black hole."
   ]
  },
  {
   "cell_type": "code",
   "execution_count": 16,
   "metadata": {},
   "outputs": [],
   "source": [
    "## Libraries\n",
    "import numpy as np\n",
    "import matplotlib.pyplot as plt\n",
    "from mpl_toolkits.mplot3d import Axes3D\n",
    "from ipywidgets import interact, IntSlider\n",
    "import ipywidgets as widgets"
   ]
  },
  {
   "cell_type": "code",
   "execution_count": 17,
   "metadata": {},
   "outputs": [],
   "source": [
    "## Parameters\n",
    "# Constants\n",
    "G = 1  # Gravitational constant (normalized)\n",
    "M = 10  # Mass of the black hole (normalized)\n",
    "num_particles = 100  # Number of particles\n",
    "time_steps = 10000  # Number of simulation steps\n",
    "dt = 0.01  # Time step for the simulation\n",
    "\n",
    "# Initialize particles with random positions and velocities\n",
    "np.random.seed(42)  # For reproducibility\n",
    "radii = np.random.uniform(5, 15, num_particles)\n",
    "angles = np.random.uniform(0, 2*np.pi, num_particles)\n",
    "z_positions = np.random.uniform(-2, 2, num_particles)\n",
    "velocities = np.random.uniform(0.5, 1.5, num_particles)\n",
    "vertical_velocities = np.random.uniform(-0.1, 0.1, num_particles)\n",
    "\n",
    "# Positions (x, y, z) and velocities (vx, vy, vz) in 3D\n",
    "x = radii * np.cos(angles)\n",
    "y = radii * np.sin(angles)\n",
    "z = z_positions\n",
    "vx = -velocities * np.sin(angles)\n",
    "vy = velocities * np.cos(angles)\n",
    "vz = vertical_velocities"
   ]
  },
  {
   "cell_type": "code",
   "execution_count": 18,
   "metadata": {},
   "outputs": [],
   "source": [
    "## Simulation\n",
    "positions = []\n",
    "for _ in range(time_steps):\n",
    "    # Calculate distance to the black hole\n",
    "    r = np.sqrt(x**2 + y**2 + z**2)\n",
    "    \n",
    "    # Gravitational force (central force directed towards the black hole)\n",
    "    F_gravity = -G * M / r**3\n",
    "    ax = F_gravity * x\n",
    "    ay = F_gravity * y\n",
    "    az = F_gravity * z\n",
    "    \n",
    "    # Update velocities\n",
    "    vx += ax * dt\n",
    "    vy += ay * dt\n",
    "    vz += az * dt\n",
    "    \n",
    "    # Update positions\n",
    "    x += vx * dt\n",
    "    y += vy * dt\n",
    "    z += vz * dt\n",
    "    \n",
    "    # Store positions for visualization\n",
    "    positions.append((x.copy(), y.copy(), z.copy()))"
   ]
  },
  {
   "cell_type": "code",
   "execution_count": 19,
   "metadata": {},
   "outputs": [
    {
     "data": {
      "application/vnd.jupyter.widget-view+json": {
       "model_id": "5ca8c88cc09d4ca88c10ee2748b48ef5",
       "version_major": 2,
       "version_minor": 0
      },
      "text/plain": [
       "interactive(children=(IntSlider(value=0, description='step', max=9999), Output()), _dom_classes=('widget-inter…"
      ]
     },
     "metadata": {},
     "output_type": "display_data"
    },
    {
     "data": {
      "text/plain": [
       "<function __main__.update_plot(step)>"
      ]
     },
     "execution_count": 19,
     "metadata": {},
     "output_type": "execute_result"
    }
   ],
   "source": [
    "## Visualization\n",
    "# Interactive plot\n",
    "def update_plot(step):\n",
    "    fig = plt.figure(figsize=(10, 8))\n",
    "    ax = fig.add_subplot(111, projection='3d')\n",
    "    ax.clear()\n",
    "    ax.set_xlim(-20, 20)\n",
    "    ax.set_ylim(-20, 20)\n",
    "    ax.set_zlim(-5, 5)\n",
    "    ax.scatter(0, 0, 0, color='k', s=100)  # Black hole\n",
    "    ax.scatter(positions[step][0], positions[step][1], positions[step][2], color='r', s=5)\n",
    "    ax.set_title(f'Time Step: {step}')\n",
    "    plt.show()\n",
    "\n",
    "interact(update_plot, step=IntSlider(min=0, max=time_steps-1, step=1, value=0))"
   ]
  },
  {
   "cell_type": "code",
   "execution_count": null,
   "metadata": {},
   "outputs": [],
   "source": []
  }
 ],
 "metadata": {
  "kernelspec": {
   "display_name": "neuraldynamics",
   "language": "python",
   "name": "python3"
  },
  "language_info": {
   "codemirror_mode": {
    "name": "ipython",
    "version": 3
   },
   "file_extension": ".py",
   "mimetype": "text/x-python",
   "name": "python",
   "nbconvert_exporter": "python",
   "pygments_lexer": "ipython3",
   "version": "3.9.18"
  }
 },
 "nbformat": 4,
 "nbformat_minor": 2
}
